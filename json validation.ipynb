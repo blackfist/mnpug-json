{
 "metadata": {
  "name": ""
 },
 "nbformat": 3,
 "nbformat_minor": 0,
 "worksheets": [
  {
   "cells": [
    {
     "cell_type": "markdown",
     "metadata": {},
     "source": [
      "# What do you do?\n",
      "I work on a project where we collect information security incidents from public sources like newspapers, court filings, and company disclosures and we describe the inicdent using a framework called VERIS. Vocabulary for Event Recording and Incident Sharing is an open-source project to standardize the way we describe high-level security incidents.\n",
      "\n",
      " * Stores data in json format\n",
      " * Describes the actor, action, asset, and attribute of each incident\n",
      " * Timeline, discovery, impact\n",
      " * https://gitub.com/vz-risk/veris\n",
      "\n",
      "Related to VERIS is the VERIS Community Database which takes those incidents and releases the raw data to the public under a creative commons license for anyone to study and research.\n",
      "\n",
      " * Data is available on github\n",
      " * Currently has over 3000 security incidents\n",
      " * Uses a variety of forms and python magic to turn input into json files\n",
      " * https://github.com/vz-risk/VCDB"
     ]
    },
    {
     "cell_type": "markdown",
     "metadata": {},
     "source": [
      "# So what's the problem?\n",
      "In order to do analytics on the data, we need the data to be as clean as possible. So we want to validate everything that is in the json object against a standard. \n",
      "\n",
      "Sometimes when there is an error in an object it is really hard to figure out where.\n",
      "\n",
      "Also, we have deeply nested objects and we were ending up with deeply nested code.\n",
      "\n",
      "## The original validation script\n",
      "checkValidity version 1 was 377 lines long. We wrote functions to compare values in an array to a list of accepted values. We wrote functions to compare values in a string to accepted values. The script was also very brittle. You couldn't specify the location of your json files unless you edited the script. Schema changes required us to rewrite large sections of this code. We were constantly finding errors where our validation script "
     ]
    },
    {
     "cell_type": "code",
     "collapsed": false,
     "input": [
      "def compareFromTo(fromArray, toArray):\n",
      "    retString = []\n",
      "    if isinstance(fromArray, basestring):\n",
      "        if fromArray not in toArray:\n",
      "            retString.append(fromArray)\n",
      "    else:\n",
      "        if len(fromArray) == 0:\n",
      "            retString.append('<empty array>')\n",
      "        for item in fromArray:\n",
      "            if item not in toArray:\n",
      "                retString.append(item)\n",
      "    return retString\n",
      "\n",
      "# Later in the script\n",
      "if jdata.has_key('attribute'):\n",
      "            if jdata['attribute'].has_key('confidentiality'):\n",
      "                if jdata['attribute']['confidentiality'].has_key('data'):\n",
      "                    for index, datatype in enumerate(jdata['attribute']['confidentiality']['data']):\n",
      "                        errList['attribute.confidentiality.data.' + str(index)] = compareFromTo(datatype['variety'], edata['attribute']['confidentiality']['data']['variety'])"
     ],
     "language": "python",
     "metadata": {},
     "outputs": [
      {
       "ename": "NameError",
       "evalue": "name 'jdata' is not defined",
       "output_type": "pyerr",
       "traceback": [
        "\u001b[0;31m---------------------------------------------------------------------------\u001b[0m\n\u001b[0;31mNameError\u001b[0m                                 Traceback (most recent call last)",
        "\u001b[0;32m<ipython-input-2-48ede543783e>\u001b[0m in \u001b[0;36m<module>\u001b[0;34m()\u001b[0m\n\u001b[1;32m     13\u001b[0m \u001b[0;34m\u001b[0m\u001b[0m\n\u001b[1;32m     14\u001b[0m \u001b[0;31m# Later in the script\u001b[0m\u001b[0;34m\u001b[0m\u001b[0;34m\u001b[0m\u001b[0m\n\u001b[0;32m---> 15\u001b[0;31m \u001b[0;32mif\u001b[0m \u001b[0mjdata\u001b[0m\u001b[0;34m.\u001b[0m\u001b[0mhas_key\u001b[0m\u001b[0;34m(\u001b[0m\u001b[0;34m'attribute'\u001b[0m\u001b[0;34m)\u001b[0m\u001b[0;34m:\u001b[0m\u001b[0;34m\u001b[0m\u001b[0m\n\u001b[0m\u001b[1;32m     16\u001b[0m             \u001b[0;32mif\u001b[0m \u001b[0mjdata\u001b[0m\u001b[0;34m[\u001b[0m\u001b[0;34m'attribute'\u001b[0m\u001b[0;34m]\u001b[0m\u001b[0;34m.\u001b[0m\u001b[0mhas_key\u001b[0m\u001b[0;34m(\u001b[0m\u001b[0;34m'confidentiality'\u001b[0m\u001b[0;34m)\u001b[0m\u001b[0;34m:\u001b[0m\u001b[0;34m\u001b[0m\u001b[0m\n\u001b[1;32m     17\u001b[0m                 \u001b[0;32mif\u001b[0m \u001b[0mjdata\u001b[0m\u001b[0;34m[\u001b[0m\u001b[0;34m'attribute'\u001b[0m\u001b[0;34m]\u001b[0m\u001b[0;34m[\u001b[0m\u001b[0;34m'confidentiality'\u001b[0m\u001b[0;34m]\u001b[0m\u001b[0;34m.\u001b[0m\u001b[0mhas_key\u001b[0m\u001b[0;34m(\u001b[0m\u001b[0;34m'data'\u001b[0m\u001b[0;34m)\u001b[0m\u001b[0;34m:\u001b[0m\u001b[0;34m\u001b[0m\u001b[0m\n",
        "\u001b[0;31mNameError\u001b[0m: name 'jdata' is not defined"
       ]
      }
     ],
     "prompt_number": 2
    },
    {
     "cell_type": "markdown",
     "metadata": {},
     "source": [
      "Ugh look at that block near the end. Code nested four layers deep and running off the end of the page. Ick!"
     ]
    },
    {
     "cell_type": "markdown",
     "metadata": {},
     "source": [
      "# How our schema used to look\n",
      "Originally the schema looked like this. We don't use these particular fields, but this will give you an idea of how the schema was documented."
     ]
    },
    {
     "cell_type": "code",
     "collapsed": false,
     "input": [
      "import json\n",
      "schema = {}\n",
      "schema['$schema'] = 'http://json-schema.org/draft-03/schema#'\n",
      "schema['properties'] = {}\n",
      "schema['properties']['firstname'] = {'type':'string'}\n",
      "schema['properties']['lastname'] = {'type':'string'}\n",
      "schema['properties']['age'] = {'type':'integer'}\n",
      "schema['properties']['zipcode'] = {'type':'string'}\n",
      "print json.dumps(schema,indent=2,sort_keys=True)\n",
      "\n",
      "        "
     ],
     "language": "python",
     "metadata": {},
     "outputs": [
      {
       "output_type": "stream",
       "stream": "stdout",
       "text": [
        "{\n",
        "  \"$schema\": \"http://json-schema.org/draft-03/schema#\", \n",
        "  \"properties\": {\n",
        "    \"age\": {\n",
        "      \"type\": \"integer\"\n",
        "    }, \n",
        "    \"firstname\": {\n",
        "      \"type\": \"string\"\n",
        "    }, \n",
        "    \"lastname\": {\n",
        "      \"type\": \"string\"\n",
        "    }, \n",
        "    \"zipcode\": {\n",
        "      \"type\": \"string\"\n",
        "    }\n",
        "  }\n",
        "}\n"
       ]
      }
     ],
     "prompt_number": 3
    },
    {
     "cell_type": "markdown",
     "metadata": {},
     "source": [
      "So we were able to validate the simple stuff, like making sure that required fields were there and that the fields were of the right type. Here are a couple examples of validating a record using the schema that we just created."
     ]
    },
    {
     "cell_type": "code",
     "collapsed": false,
     "input": [
      "from jsonschema import validate, ValidationError\n",
      "record = {'firstname':'Kevin','lastname':'Thompson','age':29,'zipcode':'56003'}\n",
      "try:\n",
      "    validate(record,schema)\n",
      "    print \"Valid record\"\n",
      "except ValidationError as e:\n",
      "    print e.message"
     ],
     "language": "python",
     "metadata": {},
     "outputs": [
      {
       "output_type": "stream",
       "stream": "stdout",
       "text": [
        "Valid record\n"
       ]
      }
     ],
     "prompt_number": 4
    },
    {
     "cell_type": "code",
     "collapsed": false,
     "input": [
      "record = {'firstname':15,'lastname':'Thompson','age':29,'zipcode':'56003'}\n",
      "try:\n",
      "    validate(record,schema)\n",
      "    print \"Valid record\"\n",
      "except ValidationError as e:\n",
      "    offendingPath = '.'.join(str(x) for x in e.path)\n",
      "    print \"Error in %s, %s\" % (offendingPath, e.message)"
     ],
     "language": "python",
     "metadata": {},
     "outputs": [
      {
       "output_type": "stream",
       "stream": "stdout",
       "text": [
        "Error in firstname, 15 is not of type 'string'\n"
       ]
      }
     ],
     "prompt_number": 5
    },
    {
     "cell_type": "code",
     "collapsed": false,
     "input": [
      "record = {'firstname':'hip hop and you don\\'t stop','lastname':'Thompson','age':29,'zipcode':'56003'}\n",
      "try:\n",
      "    validate(record,schema)\n",
      "    print \"Valid record\"\n",
      "except ValidationError as e:\n",
      "    offendingPath = '.'.join(str(x) for x in e.path)\n",
      "    print \"Error in %s, %s\" % (offendingPath, e.message)"
     ],
     "language": "python",
     "metadata": {},
     "outputs": [
      {
       "output_type": "stream",
       "stream": "stdout",
       "text": [
        "Valid record\n"
       ]
      }
     ],
     "prompt_number": 6
    },
    {
     "cell_type": "markdown",
     "metadata": {},
     "source": [
      "**hip hop and you don't stop** is a valid first name. OK, so we can do some basic validation but it isn't perfect. And so our code was bloated in part because we had to do a lot of checking for stuff like this. Here is another fun example. Let's extend the schema a bit"
     ]
    },
    {
     "cell_type": "code",
     "collapsed": false,
     "input": [
      "schema['properties']['tags'] = {'type':'array','items':{'type':'string'},'required':True}\n",
      "record = {'firstname':'Kevin','lastname':'Thompson','age':29,'zipcode':'56003'}\n",
      "try:\n",
      "    validate(record,schema)\n",
      "    print \"Valid record\"\n",
      "except ValidationError as e:\n",
      "    offendingPath = '.'.join(str(x) for x in e.path)\n",
      "    print \"Error in %s, %s\" % (offendingPath, e.message)"
     ],
     "language": "python",
     "metadata": {},
     "outputs": [
      {
       "output_type": "stream",
       "stream": "stdout",
       "text": [
        "Error in tags, 'tags' is a required property\n"
       ]
      }
     ],
     "prompt_number": 7
    },
    {
     "cell_type": "markdown",
     "metadata": {},
     "source": [
      "That's good. The code recognizes that tags needs to be there. But ..."
     ]
    },
    {
     "cell_type": "code",
     "collapsed": false,
     "input": [
      "record = {'firstname':'Kevin','lastname':'Thompson','age':29,'zipcode':'56003', 'tags':[]}\n",
      "try:\n",
      "    validate(record,schema)\n",
      "    print \"Valid record\"\n",
      "except ValidationError as e:\n",
      "    offendingPath = '.'.join(str(x) for x in e.path)\n",
      "    print \"Error in %s, %s\" % (offendingPath, e.message)"
     ],
     "language": "python",
     "metadata": {},
     "outputs": [
      {
       "output_type": "stream",
       "stream": "stdout",
       "text": [
        "Valid record\n"
       ]
      }
     ],
     "prompt_number": 8
    },
    {
     "cell_type": "markdown",
     "metadata": {},
     "source": [
      "**Oh No** You can have an empty array and it will consider that to be OK. Also there is little validation about what kind enumerations can be contained in the tags array. Our validity checking script was littered with tons of manual checks to make sure that all the values were from a list of acceptable values and that there were no duplicate values.\n",
      "\n",
      "And if we wanted to have our work validated in a different language, like ruby or javascript we would have to write this whole thing over again in that language."
     ]
    },
    {
     "cell_type": "markdown",
     "metadata": {},
     "source": [
      "# Improving documentation to simplify code\n",
      "Recently we updated the schema to use IETF Draft 4 instead of draft 3. That means changing the $schema\n",
      "\n",
      "```\n",
      "\"$schema\": \"http://json-schema.org/draft-04/schema#\"\n",
      "```\n",
      "That also meant that instead of having a ```required``` keyword for each required property, there is just one ```required``` keyword and it contains an array of property names."
     ]
    },
    {
     "cell_type": "code",
     "collapsed": false,
     "input": [
      "schema = {}\n",
      "schema['$schema'] = 'http://json-schema.org/draft-04/schema#'\n",
      "schema['properties'] = {}\n",
      "schema['properties']['firstname'] = {'type':'string'}\n",
      "schema['properties']['lastname'] = {'type':'string'}\n",
      "schema['properties']['age'] = {'type':'integer'}\n",
      "schema['properties']['zipcode'] = {'type':'string'}\n",
      "schema['properties']['tags'] = {'type':'array','items':{'type':'string'}}\n",
      "schema['required'] = ['tags']\n",
      "print json.dumps(schema,indent=2,sort_keys=True)"
     ],
     "language": "python",
     "metadata": {},
     "outputs": [
      {
       "output_type": "stream",
       "stream": "stdout",
       "text": [
        "{\n",
        "  \"$schema\": \"http://json-schema.org/draft-04/schema#\", \n",
        "  \"properties\": {\n",
        "    \"age\": {\n",
        "      \"type\": \"integer\"\n",
        "    }, \n",
        "    \"firstname\": {\n",
        "      \"type\": \"string\"\n",
        "    }, \n",
        "    \"lastname\": {\n",
        "      \"type\": \"string\"\n",
        "    }, \n",
        "    \"tags\": {\n",
        "      \"items\": {\n",
        "        \"type\": \"string\"\n",
        "      }, \n",
        "      \"type\": \"array\"\n",
        "    }, \n",
        "    \"zipcode\": {\n",
        "      \"type\": \"string\"\n",
        "    }\n",
        "  }, \n",
        "  \"required\": [\n",
        "    \"tags\"\n",
        "  ]\n",
        "}\n"
       ]
      }
     ],
     "prompt_number": 9
    },
    {
     "cell_type": "markdown",
     "metadata": {},
     "source": [
      "But it gets cool when you start to add more descriptive documenation in the schema file about each property. Let's say we want to make sure that our first name and last name don't have any characters that are not common to names in the United States."
     ]
    },
    {
     "cell_type": "code",
     "collapsed": false,
     "input": [
      "schema['properties']['firstname']['minLength'] = 1\n",
      "schema['properties']['firstname']['pattern'] = \"^[a-zA-Z]+$\"\n",
      "schema['properties']['lastname']['minLength'] = 1\n",
      "schema['properties']['lastname']['pattern'] = \"^[a-zA-Z -]+$\""
     ],
     "language": "python",
     "metadata": {},
     "outputs": [],
     "prompt_number": 13
    },
    {
     "cell_type": "code",
     "collapsed": false,
     "input": [
      "badRecords = [{'firstname':'','tags':['what']},{'firstname':'Johnny5','tags':['what']}]\n",
      "\n",
      "for each in badRecords:\n",
      "    try:\n",
      "        validate(each, schema)\n",
      "    except ValidationError as e:\n",
      "        offendingPath = '.'.join(str(x) for x in e.path)\n",
      "        print \"Error in %s, %s\" % (offendingPath, e.message)"
     ],
     "language": "python",
     "metadata": {},
     "outputs": [
      {
       "output_type": "stream",
       "stream": "stdout",
       "text": [
        "Error in firstname, '' is too short\n",
        "Error in firstname, 'Johnny5' does not match '^[a-zA-Z]+$'\n"
       ]
      }
     ],
     "prompt_number": 14
    },
    {
     "cell_type": "markdown",
     "metadata": {},
     "source": [
      "We can throw some extra validation into that array too"
     ]
    },
    {
     "cell_type": "code",
     "collapsed": false,
     "input": [
      "schema['properties']['tags']['minItems'] = 1\n",
      "schema['properties']['tags']['uniqueItems'] = True"
     ],
     "language": "python",
     "metadata": {},
     "outputs": [],
     "prompt_number": 17
    },
    {
     "cell_type": "code",
     "collapsed": false,
     "input": [
      "badRecords = [{'firstname':'Kevin','tags':'what'},\n",
      "              {'firstname':'Kevin','tags':[]},\n",
      "              {'firstname':'Kevin','tags':['cool','cool']}]\n",
      "for each in badRecords:\n",
      "    try:\n",
      "        validate(each, schema)\n",
      "    except ValidationError as e:\n",
      "        offendingPath = '.'.join(str(x) for x in e.path)\n",
      "        print \"Error in %s, %s\" % (offendingPath, e.message)"
     ],
     "language": "python",
     "metadata": {},
     "outputs": [
      {
       "output_type": "stream",
       "stream": "stdout",
       "text": [
        "Error in tags, 'what' is not of type 'array'\n",
        "Error in tags, [] is too short\n",
        "Error in tags, ['cool', 'cool'] has non-unique elements\n"
       ]
      }
     ],
     "prompt_number": 19
    },
    {
     "cell_type": "markdown",
     "metadata": {},
     "source": [
      "So this is cool because I'm more tightly defining my data but on the python side my script isn't changing at all. If at some point in the future we decide to add another field I don't have to change my validation scripts. If someone wants to use Ruby to validate the same kind of data they don't have to write all this validation from scratch.\n",
      "\n",
      "## Pay attention to the ValidationError path\n",
      "```\n",
      "except ValidationError as e:\n",
      "    offendingPath = '.'.join(str(x) for x in e.path)\n",
      "    print \"Error in %s, %s\" % (offendingPath, e.message)\n",
      "```\n",
      "see that bit with the e.path? That's an important bit of code if you happen to have json objects that are deeply nested. Getting an error that some field has a bad value isn't helpful if you have a few dozen of that field name in a deeply nested json object. So that bit of code there will make sure that you know exactly where the error is if you have go in and do some fixing."
     ]
    },
    {
     "cell_type": "markdown",
     "metadata": {},
     "source": [
      "# Dictionary .get() to reduce deep nesting\n",
      "blah blah blah"
     ]
    },
    {
     "cell_type": "markdown",
     "metadata": {},
     "source": [
      "# How things look today\n",
      "checkValidity.py is smaller and does more stuff. Code less brittle\n",
      "\n",
      "Not all sweet and rosy: things are slower. Probably because we're checking a lot more stuff."
     ]
    },
    {
     "cell_type": "markdown",
     "metadata": {},
     "source": [
      "# Watch out\n",
      "Here are some things you'll want to watch out for when you're doing JSON validation\n",
      "\n",
      " * Make sure you've got a $schema in your JSON schema or the validation will make assumptions\n",
      " * If you start getting told that 'required' is not an array then you've documented required fields in draft 3 but the validator is assuming draft 4."
     ]
    },
    {
     "cell_type": "code",
     "collapsed": false,
     "input": [],
     "language": "python",
     "metadata": {},
     "outputs": [],
     "prompt_number": 9
    }
   ],
   "metadata": {}
  }
 ]
}