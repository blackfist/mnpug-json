{
 "metadata": {
  "name": ""
 },
 "nbformat": 3,
 "nbformat_minor": 0,
 "worksheets": [
  {
   "cells": [
    {
     "cell_type": "markdown",
     "metadata": {},
     "source": [
      "# What do you do?\n",
      "I work on a project where we collect information security incidents from public sources like newspapers, court filings, and company disclosures and we describe the inicdent using a framework called VERIS. Vocabulary for Event Recording and Incident Sharing is an open-source project to standardize the way we describe high-level security incidents.\n",
      "\n",
      " * Stores data in json format\n",
      " * Describes the actor, action, asset, and attribute of each incident\n",
      " * Timeline, discovery, impact\n",
      " * https://gitub.com/vz-risk/veris\n",
      "\n",
      "Related to VERIS is the VERIS Community Database which takes those incidents and releases the raw data to the public under a creative commons license for anyone to study and research.\n",
      "\n",
      " * Data is available on github\n",
      " * Currently has over 3000 security incidents\n",
      " * Uses a variety of forms and python magic to turn input into json files\n",
      " * https://github.com/vz-risk/VCDB"
     ]
    },
    {
     "cell_type": "markdown",
     "metadata": {},
     "source": [
      "# So what's the problem?\n",
      "In order to do analytics on the data, we need the data to be as clean as possible. So we want to validate everything that is in the json object against a standard. \n",
      "\n",
      "Also, we have deeply nested objects and we were ending up with deeply nested code.\n",
      "\n",
      "## The original validation script\n",
      "checkValidity version 1 was 377 lines long. We wrote functions to compare values in an array to a list of accepted values. We wrote functions to compare values in a string to accepted values. The script was also very brittle. You couldn't specify the location of your json files unless you edited the script. Schema changes required us to rewrite large sections of this code. We were constantly finding errors where our validation script "
     ]
    },
    {
     "cell_type": "code",
     "collapsed": false,
     "input": [
      "def compareFromTo(fromArray, toArray):\n",
      "    retString = []\n",
      "    if isinstance(fromArray, basestring):\n",
      "        if fromArray not in toArray:\n",
      "            retString.append(fromArray)\n",
      "    else:\n",
      "        if len(fromArray) == 0:\n",
      "            retString.append('<empty array>')\n",
      "        for item in fromArray:\n",
      "            if item not in toArray:\n",
      "                retString.append(item)\n",
      "    return retString\n",
      "\n",
      "# Later in the script\n",
      "if jdata.has_key('attribute'):\n",
      "            if jdata['attribute'].has_key('confidentiality'):\n",
      "                if jdata['attribute']['confidentiality'].has_key('data'):\n",
      "                    for index, datatype in enumerate(jdata['attribute']['confidentiality']['data']):\n",
      "                        errList['attribute.confidentiality.data.' + str(index)] = compareFromTo(datatype['variety'], edata['attribute']['confidentiality']['data']['variety'])"
     ],
     "language": "python",
     "metadata": {},
     "outputs": []
    },
    {
     "cell_type": "markdown",
     "metadata": {},
     "source": [
      "# How our schema used to look\n",
      "Originally the schema looked like this. We don't use these particular fields, but this will give you an idea of how the schema was documented."
     ]
    },
    {
     "cell_type": "code",
     "collapsed": false,
     "input": [
      "import json\n",
      "schema = {}\n",
      "schema['$schema'] = 'http://json-schema.org/draft-03/schema#'\n",
      "schema['properties'] = {}\n",
      "schema['properties']['firstname'] = {'type':'string'}\n",
      "schema['properties']['lastname'] = {'type':'string'}\n",
      "schema['properties']['age'] = {'type':'integer'}\n",
      "schema['properties']['zipcode'] = {'type':'string'}\n",
      "print json.dumps(schema,indent=2,sort_keys=True)\n",
      "\n",
      "        "
     ],
     "language": "python",
     "metadata": {},
     "outputs": [
      {
       "output_type": "stream",
       "stream": "stdout",
       "text": [
        "{\n",
        "  \"$schema\": \"http://json-schema.org/draft-03/schema#\", \n",
        "  \"properties\": {\n",
        "    \"age\": {\n",
        "      \"type\": \"integer\"\n",
        "    }, \n",
        "    \"firstname\": {\n",
        "      \"type\": \"string\"\n",
        "    }, \n",
        "    \"lastname\": {\n",
        "      \"type\": \"string\"\n",
        "    }, \n",
        "    \"zipcode\": {\n",
        "      \"type\": \"string\"\n",
        "    }\n",
        "  }\n",
        "}\n"
       ]
      }
     ],
     "prompt_number": 13
    },
    {
     "cell_type": "markdown",
     "metadata": {},
     "source": [
      "So we were able to validate the simple stuff, like making sure that required fields were there and that the fields were of the right type. Here are a couple examples of validating a record using the schema that we just created."
     ]
    },
    {
     "cell_type": "code",
     "collapsed": false,
     "input": [
      "from jsonschema import validate, ValidationError\n",
      "record = {'firstname':'Kevin','lastname':'Thompson','age':29,'zipcode':'56003'}\n",
      "try:\n",
      "    validate(record,schema)\n",
      "    print \"Valid record\"\n",
      "except ValidationError as e:\n",
      "    print e.message"
     ],
     "language": "python",
     "metadata": {},
     "outputs": [
      {
       "output_type": "stream",
       "stream": "stdout",
       "text": [
        "Valid record\n"
       ]
      }
     ],
     "prompt_number": 14
    },
    {
     "cell_type": "code",
     "collapsed": false,
     "input": [
      "record = {'firstname':15,'lastname':'Thompson','age':29,'zipcode':'56003'}\n",
      "try:\n",
      "    validate(record,schema)\n",
      "    print \"Valid record\"\n",
      "except ValidationError as e:\n",
      "    offendingPath = '.'.join(str(x) for x in e.path)\n",
      "    print \"Error in %s, %s\" % (offendingPath, e.message)"
     ],
     "language": "python",
     "metadata": {},
     "outputs": [
      {
       "output_type": "stream",
       "stream": "stdout",
       "text": [
        "Error in firstname, 15 is not of type 'string'\n"
       ]
      }
     ],
     "prompt_number": 15
    },
    {
     "cell_type": "code",
     "collapsed": false,
     "input": [
      "record = {'firstname':'hip hop and you don\\'t stop','lastname':'Thompson','age':29,'zipcode':'56003'}\n",
      "try:\n",
      "    validate(record,schema)\n",
      "    print \"Valid record\"\n",
      "except ValidationError as e:\n",
      "    offendingPath = '.'.join(str(x) for x in e.path)\n",
      "    print \"Error in %s, %s\" % (offendingPath, e.message)"
     ],
     "language": "python",
     "metadata": {},
     "outputs": [
      {
       "output_type": "stream",
       "stream": "stdout",
       "text": [
        "Valid record\n"
       ]
      }
     ],
     "prompt_number": 16
    },
    {
     "cell_type": "markdown",
     "metadata": {},
     "source": [
      "**hip hop and you don't stop** is a valid first name. OK, so we can do some basic validation but it isn't perfect. And so our code was bloated in part because we had to do a lot of checking for stuff like this. Here is another fun example. Let's extend the schema a bit"
     ]
    },
    {
     "cell_type": "code",
     "collapsed": false,
     "input": [
      "schema['properties']['tags'] = {'type':'array','items':{'type':'string'},'required':True}\n",
      "record = {'firstname':'Kevin','lastname':'Thompson','age':29,'zipcode':'56003'}\n",
      "try:\n",
      "    validate(record,schema)\n",
      "    print \"Valid record\"\n",
      "except ValidationError as e:\n",
      "    offendingPath = '.'.join(str(x) for x in e.path)\n",
      "    print \"Error in %s, %s\" % (offendingPath, e.message)"
     ],
     "language": "python",
     "metadata": {},
     "outputs": [
      {
       "output_type": "stream",
       "stream": "stdout",
       "text": [
        "Error in tags, 'tags' is a required property\n"
       ]
      }
     ],
     "prompt_number": 17
    },
    {
     "cell_type": "markdown",
     "metadata": {},
     "source": [
      "That's good. The code recognizes that tags needs to be there. But ..."
     ]
    },
    {
     "cell_type": "code",
     "collapsed": false,
     "input": [
      "record = {'firstname':'Kevin','lastname':'Thompson','age':29,'zipcode':'56003', 'tags':[]}\n",
      "try:\n",
      "    validate(record,schema)\n",
      "    print \"Valid record\"\n",
      "except ValidationError as e:\n",
      "    offendingPath = '.'.join(str(x) for x in e.path)\n",
      "    print \"Error in %s, %s\" % (offendingPath, e.message)"
     ],
     "language": "python",
     "metadata": {},
     "outputs": [
      {
       "output_type": "stream",
       "stream": "stdout",
       "text": [
        "Valid record\n"
       ]
      }
     ],
     "prompt_number": 18
    },
    {
     "cell_type": "markdown",
     "metadata": {},
     "source": [
      "**Oh No** You can have an empty array and it will consider that to be OK. Also there is no validation about what kind of values can be contained in the tags array. Our validity checking script was littered with tons of manual checks to make sure that all the values were from a list of acceptable values and that there were no duplicate values.\n",
      "\n",
      "And if we wanted to have our work validated in a different language, like ruby or javascript we would have to write this whole thing over again in that language."
     ]
    },
    {
     "cell_type": "markdown",
     "metadata": {},
     "source": [
      "# Improving documentation to simplify code\n",
      "Then we did some stuff. Describe that here"
     ]
    },
    {
     "cell_type": "markdown",
     "metadata": {},
     "source": [
      "# Dictionary .get() to reduce deep nesting\n",
      "blah blah blah"
     ]
    },
    {
     "cell_type": "markdown",
     "metadata": {},
     "source": [
      "# Why I prefer simplejson over json\n",
      "blah blah blah"
     ]
    },
    {
     "cell_type": "markdown",
     "metadata": {},
     "source": [
      "# How things look today\n",
      "checkValidity.py is smaller and does more stuff. Code less brittle\n",
      "\n",
      "Not all sweet and rosy: things are slower. Probably because we're checking a lot more stuff."
     ]
    },
    {
     "cell_type": "markdown",
     "metadata": {},
     "source": [
      "# Watch out\n",
      "Here are some things you'll want to watch out for when you're doing JSON validation\n",
      "\n",
      " * Make sure you've got a $schema in your JSON schema or the validation will make assumptions\n",
      " * If you start getting told that 'required' is not an array then you've documented required fields in draft 3 but the validator is assuming draft 4."
     ]
    },
    {
     "cell_type": "code",
     "collapsed": false,
     "input": [],
     "language": "python",
     "metadata": {},
     "outputs": []
    }
   ],
   "metadata": {}
  }
 ]
}